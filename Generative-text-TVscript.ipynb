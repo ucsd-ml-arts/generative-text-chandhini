{
 "cells": [
  {
   "cell_type": "markdown",
   "metadata": {},
   "source": [
    "## FRIENDS TV SCRIPT GENERATION"
   ]
  },
  {
   "cell_type": "markdown",
   "metadata": {},
   "source": [
    "### Import libraries"
   ]
  },
  {
   "cell_type": "code",
   "execution_count": 1,
   "metadata": {},
   "outputs": [],
   "source": [
    "from collections import Counter\n",
    "import numpy as np\n",
    "import torch\n",
    "import os\n",
    "import pickle"
   ]
  },
  {
   "cell_type": "markdown",
   "metadata": {},
   "source": [
    "### Explore Data"
   ]
  },
  {
   "cell_type": "code",
   "execution_count": 5,
   "metadata": {},
   "outputs": [],
   "source": [
    "#load the dataset\n",
    "data_dir = './data/friends1.txt'\n",
    "input_file = os.path.join(data_dir)\n",
    "with open(input_file, 'r', encoding='utf8') as file:\n",
    "    text= file.read()\n"
   ]
  },
  {
   "cell_type": "code",
   "execution_count": 6,
   "metadata": {},
   "outputs": [
    {
     "name": "stdout",
     "output_type": "stream",
     "text": [
      "Number of unique words: 180984\n",
      "Number of lines: 30251\n",
      "Average number of words in each line: 5.982744372086874\n",
      "Sample text from index 0 to index 500\n",
      "[Scene: Central Perk, Chandler, Joey, Phoebe, and Monica are there.]\n",
      "\n",
      "Monica: There's nothing to tell! He's just some guy I work with!\n",
      "\n",
      "Joey: C'mon, you're going out with the guy! There's gotta be something wrong with him!\n",
      "\n",
      "Chandler: All right Joey, be nice.  So does he have a hump? A hump and a hairpiece?\n",
      "\n",
      "Phoebe: Wait, does he eat chalk?\n",
      "\n",
      "(They all stare, bemused.)\n",
      "\n",
      "Phoebe: Just, 'cause, I don't want her to go through what I went through with Carl- oh!\n",
      "\n",
      "Monica: Okay, everybody relax. This is n\n"
     ]
    }
   ],
   "source": [
    "### Dataset statistics\n",
    "\n",
    "w = []\n",
    "for word in text.split():\n",
    "    w.append(None)\n",
    "print(\"Number of unique words: {}\".format(len(w)))\n",
    "\n",
    "lines = text.split('\\n')\n",
    "print('Number of lines: {}'.format(len(lines)))\n",
    "\n",
    "word_count_per_line = []\n",
    "for line in lines:\n",
    "    word_count_per_line.append(len(line.split()))\n",
    "print('Average number of words in each line: {}'.format(np.average(word_count_per_line)))\n",
    "\n",
    "print(\"Sample text from index {} to index {}\".format(0,500))\n",
    "print(text[0:500])"
   ]
  },
  {
   "cell_type": "markdown",
   "metadata": {},
   "source": [
    "### preprocessing\n",
    "\n",
    "1. create lookup table - which will include creating two dictionaries. One to map the \n",
    "2. tokenize punctuation"
   ]
  },
  {
   "cell_type": "code",
   "execution_count": 7,
   "metadata": {},
   "outputs": [],
   "source": [
    "def create_lookup_table(text):\n",
    "    word_count = Counter(text)\n",
    "    sorted_word_count = sorted(word_count, key= word_count.get, reverse=True)\n",
    "    \n",
    "    int_to_vocab = {num: word for num, word in enumerate(sorted_word_count)}\n",
    "    vocab_to_int = {word: num for num, word in int_to_vocab.items()}\n",
    "    \n",
    "    return (vocab_to_int, int_to_vocab)"
   ]
  },
  {
   "cell_type": "code",
   "execution_count": 8,
   "metadata": {},
   "outputs": [],
   "source": [
    "def token_lookup():\n",
    "    tokens = dict()\n",
    "    tokens['.'] = '<PERIOD>'\n",
    "    tokens[','] = '<COMMA>'\n",
    "    tokens['\"'] = '<QUOTATION_MARK>'\n",
    "    tokens[';'] = '<SEMICOLON>'\n",
    "    tokens['!'] = '<EXCLAMATION_MARK>'\n",
    "    tokens['?'] = '<QUESTION_MARK>'\n",
    "    tokens['('] = '<LEFT_PAREN>'\n",
    "    tokens[')'] = '<RIGHT_PAREN>'\n",
    "    tokens['?'] = '<QUESTION_MARK>'\n",
    "    tokens['-'] = '<DASH>'\n",
    "    tokens['\\n'] = '<NEW_LINE>'\n",
    "    return tokens   "
   ]
  },
  {
   "cell_type": "code",
   "execution_count": 7,
   "metadata": {},
   "outputs": [],
   "source": [
    "#preprocess the data and save it\n",
    "def preprocess_data():\n",
    "    SPECIAL_WORDS = {'PADDING': '<PAD>'}\n",
    "    \n",
    "    text = load_data(data_dir)\n",
    "    token_dictionary = token_lookup()\n",
    "    \n",
    "    for key,token in token_dictionary.items():\n",
    "        text = text.replace(key, ' {}'.format(token))\n",
    "        \n",
    "    text = text.lower()\n",
    "    text = text.split()\n",
    "    \n",
    "    vocab_to_int, int_to_vocab = create_lookup_table(text + list(SPECIAL_WORDS.values()))\n",
    "    int_text = [vocab_to_int[word] for word in text]\n",
    "    pickle.dump((int_text, vocab_to_int, int_to_vocab, token_dictionary), open('preprocess.p', 'wb'))"
   ]
  },
  {
   "cell_type": "code",
   "execution_count": 8,
   "metadata": {},
   "outputs": [],
   "source": [
    "preprocess_data()"
   ]
  },
  {
   "cell_type": "code",
   "execution_count": 9,
   "metadata": {},
   "outputs": [],
   "source": [
    "def load_preprocess():\n",
    "    \"\"\"\n",
    "    Load the Preprocessed Training data and return them in batches of <batch_size> or less\n",
    "    \"\"\"\n",
    "    return pickle.load(open('preprocess.p', mode='rb'))"
   ]
  },
  {
   "cell_type": "code",
   "execution_count": 10,
   "metadata": {},
   "outputs": [],
   "source": [
    "int_text, vocab_to_int, int_to_vocab, token_dict = load_preprocess()"
   ]
  },
  {
   "cell_type": "markdown",
   "metadata": {},
   "source": [
    "### Build the neural network"
   ]
  },
  {
   "cell_type": "code",
   "execution_count": 11,
   "metadata": {},
   "outputs": [
    {
     "name": "stdout",
     "output_type": "stream",
     "text": [
      "Success, GPU available\n"
     ]
    }
   ],
   "source": [
    "gpu_available = torch.cuda.is_available()\n",
    "if(not gpu_available):\n",
    "    print(\"Error, no GPU available\")\n",
    "else:\n",
    "    print(\"Success, GPU available\")"
   ]
  },
  {
   "cell_type": "markdown",
   "metadata": {},
   "source": [
    "#### Input"
   ]
  },
  {
   "cell_type": "code",
   "execution_count": 12,
   "metadata": {},
   "outputs": [],
   "source": [
    "def batch_data(words, sequence_length, batch_size):\n",
    "    nwords = len(words)//batch_size\n",
    "    words = words[:len(words)]\n",
    "    y_length = len(words)-sequence_length\n",
    "    x = []\n",
    "    y = []\n",
    "    for index in range(0,y_length):\n",
    "        index_end = index + sequence_length\n",
    "        #features would be from the current index until the end of sequence\n",
    "        x_batch = words[index:index_end]\n",
    "        x.append(x_batch)\n",
    "        #target/predicted would be the next word in the sequence- index_end in this case\n",
    "        y_batch = words[index_end]\n",
    "        y.append(y_batch)\n",
    "        \n",
    "    #create Tensor datasets from both the x and y lists\n",
    "    data = torch.utils.data.TensorDataset(torch.from_numpy(np.asarray(x)), torch.from_numpy(np.asarray(y)))\n",
    "    data_loader = torch.utils.data.DataLoader(data, batch_size=batch_size)\n",
    "    return data_loader\n",
    "    "
   ]
  },
  {
   "cell_type": "markdown",
   "metadata": {},
   "source": [
    "### Build neural network"
   ]
  },
  {
   "cell_type": "code",
   "execution_count": 13,
   "metadata": {},
   "outputs": [],
   "source": [
    "import torch.nn as nn\n",
    "\n",
    "#implementing a class that inherits from Pytorch's base class\n",
    "\n",
    "class RNN(nn.Module):\n",
    "    def __init__(self, input_size, output_size, embedding_dim, hidden_dim, nlayers, dropout=0.5,learning_rate= 0.001):\n",
    "        super(RNN, self).__init__()\n",
    "        \n",
    "        self.embedding = nn.Embedding(input_size, embedding_dim)\n",
    "        \n",
    "        self.lstm = nn.LSTM(embedding_dim, hidden_dim, n_layers,dropout = dropout, batch_first= True)\n",
    "        \n",
    "        self.output_size = output_size\n",
    "        self.n_layers = n_layers\n",
    "        self.hidden_dim = hidden_dim\n",
    "        #final fully connected output layer\n",
    "        self.fc = nn.Linear(hidden_dim,output_size)\n",
    "    \n",
    "    def forward(self, nn_input, hidden):\n",
    "        batch_size = nn_input.size(0)\n",
    "        \n",
    "        embeds = self.embedding(nn_input)\n",
    "        lstm_out, hidden = self.lstm(embeds, hidden)\n",
    "        \n",
    "        # stack up lstm outputs - Reshaping the lstm outputs such that it can be fit into the fully connected layer\n",
    "        lstm_out = lstm_out.contiguous().view(-1, self.hidden_dim)\n",
    "        \n",
    "        # dropout and fully-connected layer\n",
    "        out = self.fc(lstm_out)\n",
    "        \n",
    "        # reshape into (batch_size, seq_length, output_size)\n",
    "        out = out.view(batch_size, -1, self.output_size)\n",
    "        \n",
    "        # get last batch\n",
    "        out = out[:, -1]\n",
    "\n",
    "        return out, hidden\n",
    "    \n",
    "    def init_hidden(self,batch_size):\n",
    "        weight = next(self.parameters()).data\n",
    "        \n",
    "        if (gpu_available):\n",
    "            hidden = (weight.new(self.n_layers, batch_size, self.hidden_dim).zero_().cuda(),\n",
    "                  weight.new(self.n_layers, batch_size, self.hidden_dim).zero_().cuda())\n",
    "        else:\n",
    "            hidden = (weight.new(self.n_layers, batch_size, self.hidden_dim).zero_(),\n",
    "                      weight.new(self.n_layers, batch_size, self.hidden_dim).zero_())\n",
    "        \n",
    "        return hidden"
   ]
  },
  {
   "cell_type": "code",
   "execution_count": 14,
   "metadata": {},
   "outputs": [],
   "source": [
    "def forward_back_prop(rnn, optimizer, criterion, inp, target, hidden):\n",
    "    \"\"\"\n",
    "    Forward and backward propagation on the neural network\n",
    "    :param decoder: The PyTorch Module that holds the neural network\n",
    "    :param decoder_optimizer: The PyTorch optimizer for the neural network\n",
    "    :param criterion: The PyTorch loss function\n",
    "    :param inp: A batch of input to the neural network\n",
    "    :param target: The target output for the batch of input\n",
    "    :return: The loss and the latest hidden state Tensor\n",
    "    \"\"\"\n",
    "    # move model to GPU, if available\n",
    "    if(gpu_available):\n",
    "        rnn.cuda()\n",
    "        \n",
    "#     # Creating new variables for the hidden state, otherwise\n",
    "#     # we'd backprop through the entire training history\n",
    "    h = tuple([each.data for each in hidden])\n",
    "\n",
    "    # zero accumulated gradients\n",
    "    rnn.zero_grad()\n",
    "    \n",
    "    if(gpu_available):\n",
    "        inputs, target = inp.cuda(), target.cuda()\n",
    "    \n",
    "    # get predicted outputs\n",
    "    output, h = rnn(inputs, h)\n",
    "    \n",
    "    # calculate loss\n",
    "    loss = criterion(output, target)\n",
    "    \n",
    "#     optimizer.zero_grad()\n",
    "    loss.backward()\n",
    "    # 'clip_grad_norm' helps prevent the exploding gradient problem in RNNs / LSTMs\n",
    "    nn.utils.clip_grad_norm_(rnn.parameters(), 5)\n",
    "\n",
    "    optimizer.step()\n",
    "    return loss.item(), h"
   ]
  },
  {
   "cell_type": "code",
   "execution_count": 15,
   "metadata": {},
   "outputs": [],
   "source": [
    "def train_rnn(rnn, batch_size, optimizer, criterion, n_epochs, show_every_n_batches=100):\n",
    "    batch_losses = []\n",
    "    \n",
    "    rnn.train()\n",
    "\n",
    "    print(\"Training for %d epoch(s)...\" % n_epochs)\n",
    "    for epoch_i in range(1, n_epochs + 1):\n",
    "        \n",
    "        # initialize hidden state\n",
    "        hidden = rnn.init_hidden(batch_size)\n",
    "        \n",
    "        for batch_i, (inputs, labels) in enumerate(train_loader, 1):\n",
    "            \n",
    "            # make sure you iterate over completely full batches, only\n",
    "            n_batches = len(train_loader.dataset)//batch_size\n",
    "            if(batch_i > n_batches):\n",
    "                break\n",
    "            \n",
    "            # forward, back prop\n",
    "            loss, hidden = forward_back_prop(rnn, optimizer, criterion, inputs, labels, hidden)          \n",
    "            # record loss\n",
    "            batch_losses.append(loss)\n",
    "\n",
    "            # printing loss stats\n",
    "            if (batch_i % show_every_n_batches) == 0:\n",
    "                print('Epoch: {:>4}/{:<4}  Loss: {}\\n'.format(\n",
    "                    epoch_i, n_epochs, np.average(batch_losses)))\n",
    "                batch_losses = []\n",
    "\n",
    "    # returns a trained rnn\n",
    "    return rnn"
   ]
  },
  {
   "cell_type": "markdown",
   "metadata": {},
   "source": [
    "### Setting the hyperparameters"
   ]
  },
  {
   "cell_type": "code",
   "execution_count": 17,
   "metadata": {},
   "outputs": [
    {
     "name": "stdout",
     "output_type": "stream",
     "text": [
      "11158\n"
     ]
    }
   ],
   "source": [
    "# Data params\n",
    "# Sequence Length\n",
    "sequence_length =  10 # of words in a sequence\n",
    "# Batch Size\n",
    "batch_size = 64\n",
    "\n",
    "# data loader - do not change\n",
    "train_loader = batch_data(int_text, sequence_length, batch_size)\n",
    "\n",
    "# Training parameters\n",
    "# Number of Epochs\n",
    "num_epochs = 20\n",
    "# Learning Rate\n",
    "learning_rate = 0.001\n",
    "\n",
    "# Model parameters\n",
    "# Vocab size\n",
    "vocab_size = len(vocab_to_int)\n",
    "# Output size\n",
    "output_size = vocab_size\n",
    "# Embedding Dimension\n",
    "embedding_dim = 200\n",
    "# Hidden Dimension\n",
    "hidden_dim = 250\n",
    "# Number of RNN Layers\n",
    "n_layers = 2\n",
    "\n",
    "# Show stats for every n number of batches\n",
    "show_every_n_batches = 1500\n",
    "\n",
    "print(len(vocab_to_int))"
   ]
  },
  {
   "cell_type": "markdown",
   "metadata": {},
   "source": [
    "### Train"
   ]
  },
  {
   "cell_type": "code",
   "execution_count": 19,
   "metadata": {},
   "outputs": [],
   "source": [
    "def save_model(filename, decoder):\n",
    "    save_filename = os.path.splitext(os.path.basename(filename))[0] + '.pt'\n",
    "    torch.save(decoder, save_filename)"
   ]
  },
  {
   "cell_type": "code",
   "execution_count": 20,
   "metadata": {},
   "outputs": [],
   "source": [
    "# instantiate the model with hyperparameters and move to gpu if available\n",
    "rnn = RNN(vocab_size, output_size, embedding_dim, hidden_dim, n_layers, dropout=0.5)\n",
    "if gpu_available:\n",
    "    rnn.cuda()"
   ]
  },
  {
   "cell_type": "code",
   "execution_count": 21,
   "metadata": {},
   "outputs": [
    {
     "name": "stdout",
     "output_type": "stream",
     "text": [
      "Training for 20 epoch(s)...\n",
      "Epoch:    1/20    Loss: 5.460625616232554\n",
      "\n",
      "Epoch:    1/20    Loss: 4.9654794948895775\n",
      "\n",
      "Epoch:    2/20    Loss: 4.585750030706057\n",
      "\n",
      "Epoch:    2/20    Loss: 4.2597872899373375\n",
      "\n",
      "Epoch:    3/20    Loss: 4.138378633035196\n",
      "\n",
      "Epoch:    3/20    Loss: 3.9340926497777304\n",
      "\n",
      "Epoch:    4/20    Loss: 3.8575706123500257\n",
      "\n",
      "Epoch:    4/20    Loss: 3.6998205739657086\n",
      "\n",
      "Epoch:    5/20    Loss: 3.665892713879411\n",
      "\n",
      "Epoch:    5/20    Loss: 3.5308276023864744\n",
      "\n",
      "Epoch:    6/20    Loss: 3.5188357561222605\n",
      "\n",
      "Epoch:    6/20    Loss: 3.3979625005722047\n",
      "\n",
      "Epoch:    7/20    Loss: 3.4019740711192825\n",
      "\n",
      "Epoch:    7/20    Loss: 3.2914987393220265\n",
      "\n",
      "Epoch:    8/20    Loss: 3.3005733174850813\n",
      "\n",
      "Epoch:    8/20    Loss: 3.2019443883101144\n",
      "\n",
      "Epoch:    9/20    Loss: 3.2224047394922457\n",
      "\n",
      "Epoch:    9/20    Loss: 3.127979487816493\n",
      "\n",
      "Epoch:   10/20    Loss: 3.1504560357614144\n",
      "\n",
      "Epoch:   10/20    Loss: 3.059274341185888\n",
      "\n",
      "Epoch:   11/20    Loss: 3.0907044703694613\n",
      "\n",
      "Epoch:   11/20    Loss: 3.005137904246648\n",
      "\n",
      "Epoch:   12/20    Loss: 3.034619984191817\n",
      "\n",
      "Epoch:   12/20    Loss: 2.9492300624847414\n",
      "\n",
      "Epoch:   13/20    Loss: 2.9837905300932155\n",
      "\n",
      "Epoch:   13/20    Loss: 2.900564339160919\n",
      "\n",
      "Epoch:   14/20    Loss: 2.937988029742563\n",
      "\n",
      "Epoch:   14/20    Loss: 2.851763664404551\n",
      "\n",
      "Epoch:   15/20    Loss: 2.9036568850782274\n",
      "\n",
      "Epoch:   15/20    Loss: 2.8161221242745715\n",
      "\n",
      "Epoch:   16/20    Loss: 2.8622246168654515\n",
      "\n",
      "Epoch:   16/20    Loss: 2.7793947192033133\n",
      "\n",
      "Epoch:   17/20    Loss: 2.8253044682378703\n",
      "\n",
      "Epoch:   17/20    Loss: 2.7460207282702127\n",
      "\n",
      "Epoch:   18/20    Loss: 2.7906045068961545\n",
      "\n",
      "Epoch:   18/20    Loss: 2.7111076627572377\n",
      "\n",
      "Epoch:   19/20    Loss: 2.760349611172805\n",
      "\n",
      "Epoch:   19/20    Loss: 2.6949805647532146\n",
      "\n",
      "Epoch:   20/20    Loss: 2.7327389356655045\n",
      "\n",
      "Epoch:   20/20    Loss: 2.664856031735738\n",
      "\n",
      "Model Trained and Saved\n"
     ]
    },
    {
     "name": "stderr",
     "output_type": "stream",
     "text": [
      "/opt/conda/lib/python3.7/site-packages/torch/serialization.py:256: UserWarning: Couldn't retrieve source code for container of type RNN. It won't be checked for correctness upon loading.\n",
      "  \"type \" + obj.__name__ + \". It won't be checked \"\n"
     ]
    }
   ],
   "source": [
    "# defining loss and optimization functions for training\n",
    "optimizer = torch.optim.Adam(rnn.parameters(), lr=learning_rate)\n",
    "criterion = nn.CrossEntropyLoss()\n",
    "\n",
    "# training the model\n",
    "trained_rnn = train_rnn(rnn, batch_size, optimizer, criterion, num_epochs, show_every_n_batches)\n",
    "\n",
    "# saving the trained model\n",
    "save_model('./save/trained_rnn', trained_rnn)\n",
    "print('Model Trained and Saved')"
   ]
  },
  {
   "cell_type": "markdown",
   "metadata": {},
   "source": [
    "### Checkpoint"
   ]
  },
  {
   "cell_type": "code",
   "execution_count": 22,
   "metadata": {},
   "outputs": [],
   "source": [
    "def load_model(filename):\n",
    "    save_filename = os.path.splitext(os.path.basename(filename))[0] + '.pt'\n",
    "    return torch.load(save_filename)"
   ]
  },
  {
   "cell_type": "code",
   "execution_count": 23,
   "metadata": {},
   "outputs": [],
   "source": [
    "_, vocab_to_int, int_to_vocab, token_dict = load_preprocess()\n",
    "trained_rnn = load_model('./save/trained_rnn')"
   ]
  },
  {
   "cell_type": "markdown",
   "metadata": {},
   "source": [
    "### Generate Text"
   ]
  },
  {
   "cell_type": "code",
   "execution_count": 24,
   "metadata": {},
   "outputs": [],
   "source": [
    "import torch.nn.functional as F\n",
    "\n",
    "def generate(rnn, prime_id, int_to_vocab, token_dict, pad_value, predict_len=100):\n",
    "    \"\"\"\n",
    "    Generate text using the neural network\n",
    "    :param decoder: The PyTorch Module that holds the trained neural network\n",
    "    :param prime_id: The word id to start the first prediction\n",
    "    :param int_to_vocab: Dict of word id keys to word values\n",
    "    :param token_dict: Dict of puncuation tokens keys to puncuation values\n",
    "    :param pad_value: The value used to pad a sequence\n",
    "    :param predict_len: The length of text to generate\n",
    "    :return: The generated text\n",
    "    \"\"\"\n",
    "    rnn.eval()\n",
    "    \n",
    "    # create a sequence (batch_size=1) with the prime_id\n",
    "    current_seq = np.full((1, sequence_length), pad_value)\n",
    "    current_seq[-1][-1] = prime_id\n",
    "    predicted = [int_to_vocab[prime_id]]\n",
    "    \n",
    "    for _ in range(predict_len):\n",
    "        if gpu_available:\n",
    "            current_seq = torch.LongTensor(current_seq).cuda()\n",
    "        else:\n",
    "            current_seq = torch.LongTensor(current_seq)\n",
    "        \n",
    "        # initialize the hidden state\n",
    "        hidden = rnn.init_hidden(current_seq.size(0))\n",
    "        \n",
    "        # get the output of the rnn\n",
    "        output, _ = rnn(current_seq, hidden)\n",
    "        \n",
    "        # get the next word probabilities\n",
    "        p = F.softmax(output, dim=1).data\n",
    "        if(gpu_available):\n",
    "            p = p.cpu() # move to cpu\n",
    "         \n",
    "        # use top_k sampling to get the index of the next word\n",
    "        top_k = 5\n",
    "        p, top_i = p.topk(top_k)\n",
    "        top_i = top_i.numpy().squeeze()\n",
    "        \n",
    "        # select the likely next word index with some element of randomness\n",
    "        p = p.numpy().squeeze()\n",
    "        word_i = np.random.choice(top_i, p=p/p.sum())\n",
    "        \n",
    "        # retrieve that word from the dictionary\n",
    "        word = int_to_vocab[word_i]\n",
    "        predicted.append(word)     \n",
    "        \n",
    "        current_seq = current_seq.cpu()\n",
    "        # the generated word becomes the next \"current sequence\" and the cycle can continue\n",
    "        current_seq = np.roll(current_seq, -1, 1)\n",
    "        current_seq[-1][-1] = word_i\n",
    "    \n",
    "#     print(\"predicred\", predicted)\n",
    "    gen_sentences = ' '.join(predicted)\n",
    "#     print(\"before\", gen_sentences)\n",
    "    \n",
    "    # Replace punctuation tokens\n",
    "    for key, token in token_dict.items():\n",
    "        ending = ' ' if key in ['\\n', '(', '\"'] else ''\n",
    "        gen_sentences = gen_sentences.replace(' ' + token.lower(), key)\n",
    "    gen_sentences = gen_sentences.replace('\\n ', '\\n')\n",
    "    gen_sentences = gen_sentences.replace('( ', '(')\n",
    "    \n",
    "    # return all the sentences\n",
    "    return gen_sentences"
   ]
  },
  {
   "cell_type": "code",
   "execution_count": 32,
   "metadata": {},
   "outputs": [
    {
     "name": "stdout",
     "output_type": "stream",
     "text": [
      "ross: special. you know what? i mean if i can get the door with one side, and i was able to mix for him, but i guess i have to be a good idea if i got a difference or something?\n",
      "\n",
      "phoebe: yeah, well i guess you do not know anything anymore too.\n",
      "\n",
      "rachel: well, yeah, i mean.\n",
      "\n",
      "phoebe: well, i know, i just had one more thing, i-i-i didn’t know that i could be with you for a while, but if you want to go down to work with him.(hands him a twin box)\n",
      "\n",
      "phoebe: okay. okay, fine, i have to get to work with a song, and the way he had....\n",
      "\n",
      "phoebe: oh honey, honey, i guess it’s not a good idea. i mean it’ll like this girl would be like bad, or fall.\n",
      "\n",
      "ross: yeah.\n",
      "\n",
      "ross: yeah, yeah!\n",
      "\n",
      "monica: well, i think i was thinking i saw him homemade boyfriend's brand room with you guys! oh my god trusted that? buzz the channel!\n",
      "\n",
      "joey: whoa!!\n",
      "\n",
      "joey: whoa! are it out!\n",
      "\n",
      "phoebe: oh, okay, yeah, well then, so, you ju and then i realized you can be able to go into one.\n",
      "\n",
      "rachel: okay, well then i guess i have no idea how much i am going to say that is that you were not gonna be a little bit.\n",
      "\n",
      "rachel: well, you got a date?!\n",
      "\n",
      "[scene: phoebe’s central perk]\n",
      "\n",
      "joey: joey is so present, you’re going to slash, thank you, so, um, i have to do it tomorrow night, i don’t have to have a question with him. i don’t have a sheep.\n",
      "\n",
      "[scene: central perk, ross and joey are there except waiting.]\n",
      "\n",
      "chandler: hey.\n",
      "\n",
      "phoebe: hey, what do you want, i got to see him if she was a half one. oh, oh, no, i mean it’s not that i have to have to have to do something\n"
     ]
    }
   ],
   "source": [
    "# run the cell multiple times to get different results!\n",
    "gen_length = 400 # modify the length to your preference\n",
    "prime_word = 'ross' # name for starting the script\n",
    "SPECIAL_WORDS = {'PADDING': '<PAD>'}\n",
    "\"\"\"\n",
    "DON'T MODIFY ANYTHING IN THIS CELL THAT IS BELOW THIS LINE\n",
    "\"\"\"\n",
    "pad_word = SPECIAL_WORDS['PADDING']\n",
    "generated_script = generate(trained_rnn, vocab_to_int[prime_word + ':'], int_to_vocab, token_dict, vocab_to_int[pad_word], gen_length)\n",
    "print(generated_script)"
   ]
  },
  {
   "cell_type": "code",
   "execution_count": 33,
   "metadata": {},
   "outputs": [],
   "source": [
    "# save script to a text file\n",
    "f =  open(\"generated_script_3.txt\",\"w\")\n",
    "f.write(generated_script)\n",
    "f.close()"
   ]
  }
 ],
 "metadata": {
  "kernelspec": {
   "display_name": "Python 3",
   "language": "python",
   "name": "python3"
  },
  "language_info": {
   "codemirror_mode": {
    "name": "ipython",
    "version": 3
   },
   "file_extension": ".py",
   "mimetype": "text/x-python",
   "name": "python",
   "nbconvert_exporter": "python",
   "pygments_lexer": "ipython3",
   "version": "3.7.3"
  }
 },
 "nbformat": 4,
 "nbformat_minor": 2
}
